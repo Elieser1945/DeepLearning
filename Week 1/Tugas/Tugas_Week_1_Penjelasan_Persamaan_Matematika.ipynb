{
  "nbformat": 4,
  "nbformat_minor": 0,
  "metadata": {
    "colab": {
      "provenance": [],
      "authorship_tag": "ABX9TyMSJCnUr/aKEWOC6M1cOgFg",
      "include_colab_link": true
    },
    "kernelspec": {
      "name": "python3",
      "display_name": "Python 3"
    },
    "language_info": {
      "name": "python"
    }
  },
  "cells": [
    {
      "cell_type": "markdown",
      "metadata": {
        "id": "view-in-github",
        "colab_type": "text"
      },
      "source": [
        "<a href=\"https://colab.research.google.com/github/Elieser1945/DeepLearning/blob/main/Tugas_Week_1_Penjelasan_Persamaan_Matematika.ipynb\" target=\"_parent\"><img src=\"https://colab.research.google.com/assets/colab-badge.svg\" alt=\"Open In Colab\"/></a>"
      ]
    },
    {
      "cell_type": "markdown",
      "source": [
        "# Penjelasan Persamaan Matematika yang Digunakan"
      ],
      "metadata": {
        "id": "UTFRqb-furBu"
      }
    },
    {
      "cell_type": "markdown",
      "source": [
        "**1. MSE (Mean Squared Error) – Seberapa Besar Errornya?**\n",
        "\n",
        "MSE menghitung rata-rata dari selisih kuadrat antara nilai aktual dan prediksi.\n",
        "\n",
        "🔹 Semakin kecil MSE, semakin baik modelnya.\n",
        "\n",
        "🔹 Satuan error dalam kuadrat, jadi sulit diinterpretasikan langsung.\n",
        "\n",
        "Formula:\n",
        "\n",
        "MSE = 1/n ∑(y actual - y pred)²\n",
        "\n",
        "\n",
        "**2. RMSE (Root Mean Squared Error) – Error dalam Satuan Asli**\n",
        "\n",
        "RMSE adalah akar dari MSE, sehingga mengembalikan error dalam satuan asli dari data.\n",
        "\n",
        "🔹 Lebih mudah diinterpretasikan dibanding MSE.\n",
        "\n",
        "🔹 Semakin kecil RMSE, semakin baik modelnya.\n",
        "\n",
        "Formula:\n",
        "\n",
        "RMSE = √MSE\n",
        "\n",
        "\n",
        "**3. R² (Koefisien Determinasi) Seberapa Baik Modelnya?**\n",
        "\n",
        "R² mengukur seberapa baik model menjelaskan variabilitas data.\n",
        "\n",
        "🔹 R² = 1 → Model sempurna (Prediksi 100% akurat).\n",
        "\n",
        "🔹 R² = 0 → Model sama buruknya dengan rata-rata data.\n",
        "\n",
        "🔹 R² < 0 → Model lebih buruk dari tebakan rata-rata.\n",
        "\n",
        "Formula:\n",
        "\n",
        "R² = 1 - ∑(y actual - y pred)²/ ∑(y actual - y mean)²"
      ],
      "metadata": {
        "id": "EphaChbJu2PS"
      }
    },
    {
      "cell_type": "code",
      "execution_count": null,
      "metadata": {
        "id": "MF6pNRCNup9m"
      },
      "outputs": [],
      "source": []
    }
  ]
}
