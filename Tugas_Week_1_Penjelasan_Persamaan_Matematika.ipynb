{
  "nbformat": 4,
  "nbformat_minor": 0,
  "metadata": {
    "colab": {
      "provenance": [],
      "authorship_tag": "ABX9TyPIYcdcXHqMSYUsWLiXOjqh",
      "include_colab_link": true
    },
    "kernelspec": {
      "name": "python3",
      "display_name": "Python 3"
    },
    "language_info": {
      "name": "python"
    }
  },
  "cells": [
    {
      "cell_type": "markdown",
      "metadata": {
        "id": "view-in-github",
        "colab_type": "text"
      },
      "source": [
        "<a href=\"https://colab.research.google.com/github/Elieser1945/DeepLearning/blob/main/Tugas_Week_1_Penjelasan_Persamaan_Matematika.ipynb\" target=\"_parent\"><img src=\"https://colab.research.google.com/assets/colab-badge.svg\" alt=\"Open In Colab\"/></a>"
      ]
    },
    {
      "cell_type": "markdown",
      "source": [
        "# Penjelasan Persamaan Matematika yang Digunakan"
      ],
      "metadata": {
        "id": "GMI8_-E9-Pec"
      }
    },
    {
      "cell_type": "markdown",
      "source": [
        "**1. Akurasi (Accuracy)**\n",
        "\n",
        "Akurasi mengukur seberapa banyak prediksi yang benar dibandingkan dengan total prediksi.\n",
        "\n",
        "Akurasi= TP+TN/ TP+TN+FP+FN​\n",
        "\n",
        "Keterangan:\n",
        "\n",
        "TP (True Positive) → Prediksi benar sebagai positif.\n",
        "\n",
        "TN (True Negative) → Prediksi benar sebagai negatif.\n",
        "\n",
        "FP (False Positive) → Prediksi salah sebagai positif.\n",
        "\n",
        "FN (False Negative) → Prediksi salah sebagai negatif.\n",
        "\n",
        "\n",
        "**2. Presisi (Precision)**\n",
        "\n",
        "Presisi mengukur seberapa akurat model dalam memprediksi kelas positif.\n",
        "\n",
        "Presisi= TP/ TP+FP\n",
        "\n",
        "\n",
        "Jika model memiliki presisi tinggi, berarti model jarang salah dalam memprediksi kelas positif.\n",
        "\n",
        "Jika presisi rendah, model sering salah memprediksi negatif sebagai positif (False Positive tinggi).\n",
        "\n",
        "**3. Recall (Sensitivitas)**\n",
        "\n",
        "Recall mengukur seberapa baik model dalam menangkap semua kasus positif.\n",
        "\n",
        "Recall= TP/ TP+FN\n",
        "\n",
        "\n",
        "Jika recall tinggi, berarti model berhasil menangkap hampir semua data positif. Jika recall rendah, model sering gagal mengenali positif sebagai negatif (False Negative tinggi).\n",
        "\n",
        "**4. F1-Score (Harmonic Mean)**\n",
        " F1-score menggabungkan presisi dan recall dalam satu metrik menggunakan rata-rata harmonik.\n",
        "\n",
        "\n",
        "**5. Receiver Operating Characteristic (ROC) Curve**\n",
        "\n",
        "ROC Curve adalah grafik yang membandingkan TPR vs FPR pada berbagai threshold.\n",
        "\n",
        "Sumbu X → FPR (False Positive Rate)\n",
        "\n",
        "Sumbu Y → TPR (True Positive Rate / Recall)\n",
        "\n"
      ],
      "metadata": {
        "id": "5JJv9w1a-RMy"
      }
    },
    {
      "cell_type": "markdown",
      "source": [
        "# Metrik terbaik: ROC AUC\n",
        "# Karena memberi gambaran keseluruhan tentang kemampuan model membedakan kelas positif dan negatif."
      ],
      "metadata": {
        "id": "eqF3kiVA_y2n"
      }
    },
    {
      "cell_type": "code",
      "execution_count": null,
      "metadata": {
        "id": "OJ5ZNsvx-FQ5"
      },
      "outputs": [],
      "source": []
    }
  ]
}