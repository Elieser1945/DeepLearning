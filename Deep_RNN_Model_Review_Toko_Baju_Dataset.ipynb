{
  "nbformat": 4,
  "nbformat_minor": 0,
  "metadata": {
    "colab": {
      "provenance": [],
      "authorship_tag": "ABX9TyOnKC3/RG81ZBFQAqANi4Sz"
    },
    "kernelspec": {
      "name": "python3",
      "display_name": "Python 3"
    },
    "language_info": {
      "name": "python"
    }
  },
  "cells": [
    {
      "cell_type": "markdown",
      "source": [
        "# 📌 **Deep RNN Model - Review Toko Baju Dataset**"
      ],
      "metadata": {
        "id": "UgKHtNgzq18Z"
      }
    },
    {
      "cell_type": "markdown",
      "source": [
        "# Install Library"
      ],
      "metadata": {
        "id": "sUyrU8bOrLhj"
      }
    },
    {
      "source": [
        "!pip install keras-tuner\n"
      ],
      "cell_type": "code",
      "metadata": {
        "colab": {
          "base_uri": "https://localhost:8080/"
        },
        "id": "y4F9YIn2rJW4",
        "outputId": "c198fe78-3ea3-4f2f-8197-3c69c957bcf3"
      },
      "execution_count": 2,
      "outputs": [
        {
          "output_type": "stream",
          "name": "stdout",
          "text": [
            "Collecting keras-tuner\n",
            "  Downloading keras_tuner-1.4.7-py3-none-any.whl.metadata (5.4 kB)\n",
            "Requirement already satisfied: keras in /usr/local/lib/python3.11/dist-packages (from keras-tuner) (3.8.0)\n",
            "Requirement already satisfied: packaging in /usr/local/lib/python3.11/dist-packages (from keras-tuner) (24.2)\n",
            "Requirement already satisfied: requests in /usr/local/lib/python3.11/dist-packages (from keras-tuner) (2.32.3)\n",
            "Collecting kt-legacy (from keras-tuner)\n",
            "  Downloading kt_legacy-1.0.5-py3-none-any.whl.metadata (221 bytes)\n",
            "Requirement already satisfied: absl-py in /usr/local/lib/python3.11/dist-packages (from keras->keras-tuner) (1.4.0)\n",
            "Requirement already satisfied: numpy in /usr/local/lib/python3.11/dist-packages (from keras->keras-tuner) (2.0.2)\n",
            "Requirement already satisfied: rich in /usr/local/lib/python3.11/dist-packages (from keras->keras-tuner) (13.9.4)\n",
            "Requirement already satisfied: namex in /usr/local/lib/python3.11/dist-packages (from keras->keras-tuner) (0.0.9)\n",
            "Requirement already satisfied: h5py in /usr/local/lib/python3.11/dist-packages (from keras->keras-tuner) (3.13.0)\n",
            "Requirement already satisfied: optree in /usr/local/lib/python3.11/dist-packages (from keras->keras-tuner) (0.15.0)\n",
            "Requirement already satisfied: ml-dtypes in /usr/local/lib/python3.11/dist-packages (from keras->keras-tuner) (0.4.1)\n",
            "Requirement already satisfied: charset-normalizer<4,>=2 in /usr/local/lib/python3.11/dist-packages (from requests->keras-tuner) (3.4.2)\n",
            "Requirement already satisfied: idna<4,>=2.5 in /usr/local/lib/python3.11/dist-packages (from requests->keras-tuner) (3.10)\n",
            "Requirement already satisfied: urllib3<3,>=1.21.1 in /usr/local/lib/python3.11/dist-packages (from requests->keras-tuner) (2.4.0)\n",
            "Requirement already satisfied: certifi>=2017.4.17 in /usr/local/lib/python3.11/dist-packages (from requests->keras-tuner) (2025.4.26)\n",
            "Requirement already satisfied: typing-extensions>=4.5.0 in /usr/local/lib/python3.11/dist-packages (from optree->keras->keras-tuner) (4.13.2)\n",
            "Requirement already satisfied: markdown-it-py>=2.2.0 in /usr/local/lib/python3.11/dist-packages (from rich->keras->keras-tuner) (3.0.0)\n",
            "Requirement already satisfied: pygments<3.0.0,>=2.13.0 in /usr/local/lib/python3.11/dist-packages (from rich->keras->keras-tuner) (2.19.1)\n",
            "Requirement already satisfied: mdurl~=0.1 in /usr/local/lib/python3.11/dist-packages (from markdown-it-py>=2.2.0->rich->keras->keras-tuner) (0.1.2)\n",
            "Downloading keras_tuner-1.4.7-py3-none-any.whl (129 kB)\n",
            "\u001b[2K   \u001b[90m━━━━━━━━━━━━━━━━━━━━━━━━━━━━━━━━━━━━━━━━\u001b[0m \u001b[32m129.1/129.1 kB\u001b[0m \u001b[31m2.7 MB/s\u001b[0m eta \u001b[36m0:00:00\u001b[0m\n",
            "\u001b[?25hDownloading kt_legacy-1.0.5-py3-none-any.whl (9.6 kB)\n",
            "Installing collected packages: kt-legacy, keras-tuner\n",
            "Successfully installed keras-tuner-1.4.7 kt-legacy-1.0.5\n"
          ]
        }
      ]
    },
    {
      "cell_type": "markdown",
      "source": [
        "# Import Library"
      ],
      "metadata": {
        "id": "w9YDXjfwrRNl"
      }
    },
    {
      "cell_type": "code",
      "execution_count": 3,
      "metadata": {
        "id": "Qf_CovPDqlWH"
      },
      "outputs": [],
      "source": [
        "import pandas as pd\n",
        "import numpy as np\n",
        "import re\n",
        "import matplotlib.pyplot as plt\n",
        "import seaborn as sns\n",
        "from sklearn.model_selection import train_test_split\n",
        "from sklearn.metrics import classification_report, roc_auc_score, roc_curve\n",
        "from sklearn.utils import class_weight\n",
        "import tensorflow as tf\n",
        "from tensorflow.keras.preprocessing.text import Tokenizer\n",
        "from tensorflow.keras.preprocessing.sequence import pad_sequences\n",
        "from tensorflow.keras.models import Sequential\n",
        "from tensorflow.keras.layers import Embedding, SimpleRNN, Dense, Dropout\n",
        "from sklearn.metrics import accuracy_score, precision_score, recall_score, f1_score\n",
        "import keras_tuner as kt\n"
      ]
    },
    {
      "cell_type": "markdown",
      "source": [
        "# Data Preparation"
      ],
      "metadata": {
        "id": "1HYrxHPIrV_x"
      }
    },
    {
      "cell_type": "code",
      "source": [
        "# Load dataset\n",
        "url = \"https://raw.githubusercontent.com/farrelrassya/teachingMLDL/refs/heads/main/02.%20Deep%20Learning/04.%20Week%204/Dataset/ReviewTokoBaju.csv\"\n",
        "df = pd.read_csv(url)\n",
        "\n",
        "df.head()\n"
      ],
      "metadata": {
        "colab": {
          "base_uri": "https://localhost:8080/",
          "height": 625
        },
        "id": "kIS8Dfm8rZnq",
        "outputId": "94aa0db6-40e9-4887-c0fc-4389ad667c03"
      },
      "execution_count": 4,
      "outputs": [
        {
          "output_type": "execute_result",
          "data": {
            "text/plain": [
              "   Unnamed: 0  Clothing ID  Age                    Title  \\\n",
              "0           0          767   33                      NaN   \n",
              "1           1         1080   34                      NaN   \n",
              "2           2         1077   60  Some major design flaws   \n",
              "3           3         1049   50         My favorite buy!   \n",
              "4           4          847   47         Flattering shirt   \n",
              "\n",
              "                                         Review Text  Rating  Recommended IND  \\\n",
              "0  Absolutely wonderful - silky and sexy and comf...       4                1   \n",
              "1  Love this dress!  it's sooo pretty.  i happene...       5                1   \n",
              "2  I had such high hopes for this dress and reall...       3                0   \n",
              "3  I love, love, love this jumpsuit. it's fun, fl...       5                1   \n",
              "4  This shirt is very flattering to all due to th...       5                1   \n",
              "\n",
              "   Positive Feedback Count   Division Name Department Name Class Name  \n",
              "0                        0       Initmates        Intimate  Intimates  \n",
              "1                        4         General         Dresses    Dresses  \n",
              "2                        0         General         Dresses    Dresses  \n",
              "3                        0  General Petite         Bottoms      Pants  \n",
              "4                        6         General            Tops    Blouses  "
            ],
            "text/html": [
              "\n",
              "  <div id=\"df-f1bd9fd4-0306-479c-812d-878a2a9d7cf4\" class=\"colab-df-container\">\n",
              "    <div>\n",
              "<style scoped>\n",
              "    .dataframe tbody tr th:only-of-type {\n",
              "        vertical-align: middle;\n",
              "    }\n",
              "\n",
              "    .dataframe tbody tr th {\n",
              "        vertical-align: top;\n",
              "    }\n",
              "\n",
              "    .dataframe thead th {\n",
              "        text-align: right;\n",
              "    }\n",
              "</style>\n",
              "<table border=\"1\" class=\"dataframe\">\n",
              "  <thead>\n",
              "    <tr style=\"text-align: right;\">\n",
              "      <th></th>\n",
              "      <th>Unnamed: 0</th>\n",
              "      <th>Clothing ID</th>\n",
              "      <th>Age</th>\n",
              "      <th>Title</th>\n",
              "      <th>Review Text</th>\n",
              "      <th>Rating</th>\n",
              "      <th>Recommended IND</th>\n",
              "      <th>Positive Feedback Count</th>\n",
              "      <th>Division Name</th>\n",
              "      <th>Department Name</th>\n",
              "      <th>Class Name</th>\n",
              "    </tr>\n",
              "  </thead>\n",
              "  <tbody>\n",
              "    <tr>\n",
              "      <th>0</th>\n",
              "      <td>0</td>\n",
              "      <td>767</td>\n",
              "      <td>33</td>\n",
              "      <td>NaN</td>\n",
              "      <td>Absolutely wonderful - silky and sexy and comf...</td>\n",
              "      <td>4</td>\n",
              "      <td>1</td>\n",
              "      <td>0</td>\n",
              "      <td>Initmates</td>\n",
              "      <td>Intimate</td>\n",
              "      <td>Intimates</td>\n",
              "    </tr>\n",
              "    <tr>\n",
              "      <th>1</th>\n",
              "      <td>1</td>\n",
              "      <td>1080</td>\n",
              "      <td>34</td>\n",
              "      <td>NaN</td>\n",
              "      <td>Love this dress!  it's sooo pretty.  i happene...</td>\n",
              "      <td>5</td>\n",
              "      <td>1</td>\n",
              "      <td>4</td>\n",
              "      <td>General</td>\n",
              "      <td>Dresses</td>\n",
              "      <td>Dresses</td>\n",
              "    </tr>\n",
              "    <tr>\n",
              "      <th>2</th>\n",
              "      <td>2</td>\n",
              "      <td>1077</td>\n",
              "      <td>60</td>\n",
              "      <td>Some major design flaws</td>\n",
              "      <td>I had such high hopes for this dress and reall...</td>\n",
              "      <td>3</td>\n",
              "      <td>0</td>\n",
              "      <td>0</td>\n",
              "      <td>General</td>\n",
              "      <td>Dresses</td>\n",
              "      <td>Dresses</td>\n",
              "    </tr>\n",
              "    <tr>\n",
              "      <th>3</th>\n",
              "      <td>3</td>\n",
              "      <td>1049</td>\n",
              "      <td>50</td>\n",
              "      <td>My favorite buy!</td>\n",
              "      <td>I love, love, love this jumpsuit. it's fun, fl...</td>\n",
              "      <td>5</td>\n",
              "      <td>1</td>\n",
              "      <td>0</td>\n",
              "      <td>General Petite</td>\n",
              "      <td>Bottoms</td>\n",
              "      <td>Pants</td>\n",
              "    </tr>\n",
              "    <tr>\n",
              "      <th>4</th>\n",
              "      <td>4</td>\n",
              "      <td>847</td>\n",
              "      <td>47</td>\n",
              "      <td>Flattering shirt</td>\n",
              "      <td>This shirt is very flattering to all due to th...</td>\n",
              "      <td>5</td>\n",
              "      <td>1</td>\n",
              "      <td>6</td>\n",
              "      <td>General</td>\n",
              "      <td>Tops</td>\n",
              "      <td>Blouses</td>\n",
              "    </tr>\n",
              "  </tbody>\n",
              "</table>\n",
              "</div>\n",
              "    <div class=\"colab-df-buttons\">\n",
              "\n",
              "  <div class=\"colab-df-container\">\n",
              "    <button class=\"colab-df-convert\" onclick=\"convertToInteractive('df-f1bd9fd4-0306-479c-812d-878a2a9d7cf4')\"\n",
              "            title=\"Convert this dataframe to an interactive table.\"\n",
              "            style=\"display:none;\">\n",
              "\n",
              "  <svg xmlns=\"http://www.w3.org/2000/svg\" height=\"24px\" viewBox=\"0 -960 960 960\">\n",
              "    <path d=\"M120-120v-720h720v720H120Zm60-500h600v-160H180v160Zm220 220h160v-160H400v160Zm0 220h160v-160H400v160ZM180-400h160v-160H180v160Zm440 0h160v-160H620v160ZM180-180h160v-160H180v160Zm440 0h160v-160H620v160Z\"/>\n",
              "  </svg>\n",
              "    </button>\n",
              "\n",
              "  <style>\n",
              "    .colab-df-container {\n",
              "      display:flex;\n",
              "      gap: 12px;\n",
              "    }\n",
              "\n",
              "    .colab-df-convert {\n",
              "      background-color: #E8F0FE;\n",
              "      border: none;\n",
              "      border-radius: 50%;\n",
              "      cursor: pointer;\n",
              "      display: none;\n",
              "      fill: #1967D2;\n",
              "      height: 32px;\n",
              "      padding: 0 0 0 0;\n",
              "      width: 32px;\n",
              "    }\n",
              "\n",
              "    .colab-df-convert:hover {\n",
              "      background-color: #E2EBFA;\n",
              "      box-shadow: 0px 1px 2px rgba(60, 64, 67, 0.3), 0px 1px 3px 1px rgba(60, 64, 67, 0.15);\n",
              "      fill: #174EA6;\n",
              "    }\n",
              "\n",
              "    .colab-df-buttons div {\n",
              "      margin-bottom: 4px;\n",
              "    }\n",
              "\n",
              "    [theme=dark] .colab-df-convert {\n",
              "      background-color: #3B4455;\n",
              "      fill: #D2E3FC;\n",
              "    }\n",
              "\n",
              "    [theme=dark] .colab-df-convert:hover {\n",
              "      background-color: #434B5C;\n",
              "      box-shadow: 0px 1px 3px 1px rgba(0, 0, 0, 0.15);\n",
              "      filter: drop-shadow(0px 1px 2px rgba(0, 0, 0, 0.3));\n",
              "      fill: #FFFFFF;\n",
              "    }\n",
              "  </style>\n",
              "\n",
              "    <script>\n",
              "      const buttonEl =\n",
              "        document.querySelector('#df-f1bd9fd4-0306-479c-812d-878a2a9d7cf4 button.colab-df-convert');\n",
              "      buttonEl.style.display =\n",
              "        google.colab.kernel.accessAllowed ? 'block' : 'none';\n",
              "\n",
              "      async function convertToInteractive(key) {\n",
              "        const element = document.querySelector('#df-f1bd9fd4-0306-479c-812d-878a2a9d7cf4');\n",
              "        const dataTable =\n",
              "          await google.colab.kernel.invokeFunction('convertToInteractive',\n",
              "                                                    [key], {});\n",
              "        if (!dataTable) return;\n",
              "\n",
              "        const docLinkHtml = 'Like what you see? Visit the ' +\n",
              "          '<a target=\"_blank\" href=https://colab.research.google.com/notebooks/data_table.ipynb>data table notebook</a>'\n",
              "          + ' to learn more about interactive tables.';\n",
              "        element.innerHTML = '';\n",
              "        dataTable['output_type'] = 'display_data';\n",
              "        await google.colab.output.renderOutput(dataTable, element);\n",
              "        const docLink = document.createElement('div');\n",
              "        docLink.innerHTML = docLinkHtml;\n",
              "        element.appendChild(docLink);\n",
              "      }\n",
              "    </script>\n",
              "  </div>\n",
              "\n",
              "\n",
              "    <div id=\"df-70412398-ee62-48b4-9d15-f95811f7a458\">\n",
              "      <button class=\"colab-df-quickchart\" onclick=\"quickchart('df-70412398-ee62-48b4-9d15-f95811f7a458')\"\n",
              "                title=\"Suggest charts\"\n",
              "                style=\"display:none;\">\n",
              "\n",
              "<svg xmlns=\"http://www.w3.org/2000/svg\" height=\"24px\"viewBox=\"0 0 24 24\"\n",
              "     width=\"24px\">\n",
              "    <g>\n",
              "        <path d=\"M19 3H5c-1.1 0-2 .9-2 2v14c0 1.1.9 2 2 2h14c1.1 0 2-.9 2-2V5c0-1.1-.9-2-2-2zM9 17H7v-7h2v7zm4 0h-2V7h2v10zm4 0h-2v-4h2v4z\"/>\n",
              "    </g>\n",
              "</svg>\n",
              "      </button>\n",
              "\n",
              "<style>\n",
              "  .colab-df-quickchart {\n",
              "      --bg-color: #E8F0FE;\n",
              "      --fill-color: #1967D2;\n",
              "      --hover-bg-color: #E2EBFA;\n",
              "      --hover-fill-color: #174EA6;\n",
              "      --disabled-fill-color: #AAA;\n",
              "      --disabled-bg-color: #DDD;\n",
              "  }\n",
              "\n",
              "  [theme=dark] .colab-df-quickchart {\n",
              "      --bg-color: #3B4455;\n",
              "      --fill-color: #D2E3FC;\n",
              "      --hover-bg-color: #434B5C;\n",
              "      --hover-fill-color: #FFFFFF;\n",
              "      --disabled-bg-color: #3B4455;\n",
              "      --disabled-fill-color: #666;\n",
              "  }\n",
              "\n",
              "  .colab-df-quickchart {\n",
              "    background-color: var(--bg-color);\n",
              "    border: none;\n",
              "    border-radius: 50%;\n",
              "    cursor: pointer;\n",
              "    display: none;\n",
              "    fill: var(--fill-color);\n",
              "    height: 32px;\n",
              "    padding: 0;\n",
              "    width: 32px;\n",
              "  }\n",
              "\n",
              "  .colab-df-quickchart:hover {\n",
              "    background-color: var(--hover-bg-color);\n",
              "    box-shadow: 0 1px 2px rgba(60, 64, 67, 0.3), 0 1px 3px 1px rgba(60, 64, 67, 0.15);\n",
              "    fill: var(--button-hover-fill-color);\n",
              "  }\n",
              "\n",
              "  .colab-df-quickchart-complete:disabled,\n",
              "  .colab-df-quickchart-complete:disabled:hover {\n",
              "    background-color: var(--disabled-bg-color);\n",
              "    fill: var(--disabled-fill-color);\n",
              "    box-shadow: none;\n",
              "  }\n",
              "\n",
              "  .colab-df-spinner {\n",
              "    border: 2px solid var(--fill-color);\n",
              "    border-color: transparent;\n",
              "    border-bottom-color: var(--fill-color);\n",
              "    animation:\n",
              "      spin 1s steps(1) infinite;\n",
              "  }\n",
              "\n",
              "  @keyframes spin {\n",
              "    0% {\n",
              "      border-color: transparent;\n",
              "      border-bottom-color: var(--fill-color);\n",
              "      border-left-color: var(--fill-color);\n",
              "    }\n",
              "    20% {\n",
              "      border-color: transparent;\n",
              "      border-left-color: var(--fill-color);\n",
              "      border-top-color: var(--fill-color);\n",
              "    }\n",
              "    30% {\n",
              "      border-color: transparent;\n",
              "      border-left-color: var(--fill-color);\n",
              "      border-top-color: var(--fill-color);\n",
              "      border-right-color: var(--fill-color);\n",
              "    }\n",
              "    40% {\n",
              "      border-color: transparent;\n",
              "      border-right-color: var(--fill-color);\n",
              "      border-top-color: var(--fill-color);\n",
              "    }\n",
              "    60% {\n",
              "      border-color: transparent;\n",
              "      border-right-color: var(--fill-color);\n",
              "    }\n",
              "    80% {\n",
              "      border-color: transparent;\n",
              "      border-right-color: var(--fill-color);\n",
              "      border-bottom-color: var(--fill-color);\n",
              "    }\n",
              "    90% {\n",
              "      border-color: transparent;\n",
              "      border-bottom-color: var(--fill-color);\n",
              "    }\n",
              "  }\n",
              "</style>\n",
              "\n",
              "      <script>\n",
              "        async function quickchart(key) {\n",
              "          const quickchartButtonEl =\n",
              "            document.querySelector('#' + key + ' button');\n",
              "          quickchartButtonEl.disabled = true;  // To prevent multiple clicks.\n",
              "          quickchartButtonEl.classList.add('colab-df-spinner');\n",
              "          try {\n",
              "            const charts = await google.colab.kernel.invokeFunction(\n",
              "                'suggestCharts', [key], {});\n",
              "          } catch (error) {\n",
              "            console.error('Error during call to suggestCharts:', error);\n",
              "          }\n",
              "          quickchartButtonEl.classList.remove('colab-df-spinner');\n",
              "          quickchartButtonEl.classList.add('colab-df-quickchart-complete');\n",
              "        }\n",
              "        (() => {\n",
              "          let quickchartButtonEl =\n",
              "            document.querySelector('#df-70412398-ee62-48b4-9d15-f95811f7a458 button');\n",
              "          quickchartButtonEl.style.display =\n",
              "            google.colab.kernel.accessAllowed ? 'block' : 'none';\n",
              "        })();\n",
              "      </script>\n",
              "    </div>\n",
              "\n",
              "    </div>\n",
              "  </div>\n"
            ],
            "application/vnd.google.colaboratory.intrinsic+json": {
              "type": "dataframe",
              "variable_name": "df",
              "summary": "{\n  \"name\": \"df\",\n  \"rows\": 23486,\n  \"fields\": [\n    {\n      \"column\": \"Unnamed: 0\",\n      \"properties\": {\n        \"dtype\": \"number\",\n        \"std\": 6779,\n        \"min\": 0,\n        \"max\": 23485,\n        \"num_unique_values\": 23486,\n        \"samples\": [\n          1297,\n          7228,\n          21410\n        ],\n        \"semantic_type\": \"\",\n        \"description\": \"\"\n      }\n    },\n    {\n      \"column\": \"Clothing ID\",\n      \"properties\": {\n        \"dtype\": \"number\",\n        \"std\": 203,\n        \"min\": 0,\n        \"max\": 1205,\n        \"num_unique_values\": 1206,\n        \"samples\": [\n          835,\n          753,\n          93\n        ],\n        \"semantic_type\": \"\",\n        \"description\": \"\"\n      }\n    },\n    {\n      \"column\": \"Age\",\n      \"properties\": {\n        \"dtype\": \"number\",\n        \"std\": 12,\n        \"min\": 18,\n        \"max\": 99,\n        \"num_unique_values\": 77,\n        \"samples\": [\n          47,\n          62,\n          41\n        ],\n        \"semantic_type\": \"\",\n        \"description\": \"\"\n      }\n    },\n    {\n      \"column\": \"Title\",\n      \"properties\": {\n        \"dtype\": \"string\",\n        \"num_unique_values\": 13993,\n        \"samples\": [\n          \"Colorful, pretty shirt\",\n          \"Unique soft and comfy fall top\",\n          \"Great fitting jean.\"\n        ],\n        \"semantic_type\": \"\",\n        \"description\": \"\"\n      }\n    },\n    {\n      \"column\": \"Review Text\",\n      \"properties\": {\n        \"dtype\": \"string\",\n        \"num_unique_values\": 22634,\n        \"samples\": [\n          \"This top is really pretty and nice quality. runs big - i went down a size, and its perfect. coloring is more subtle in person than in the photo.\",\n          \"I was so excited to splurge on a mara hoffman suit and was sorely disappointed when i received this suit in the mail. i'm petite and fairly curvy, so i knew it would likely be a little long in the torso but the whole suit was so oddly shaped, i couldn't imagine anyone it would fit. the square shape in between the halter pieces is awkward, and the pieces that are supposed to hold your chest are super wide and loose.\",\n          \"Got so many complements! really comfy but runs big! i'm usually a large and i wish i had gotten the small.\"\n        ],\n        \"semantic_type\": \"\",\n        \"description\": \"\"\n      }\n    },\n    {\n      \"column\": \"Rating\",\n      \"properties\": {\n        \"dtype\": \"number\",\n        \"std\": 1,\n        \"min\": 1,\n        \"max\": 5,\n        \"num_unique_values\": 5,\n        \"samples\": [\n          5,\n          1,\n          3\n        ],\n        \"semantic_type\": \"\",\n        \"description\": \"\"\n      }\n    },\n    {\n      \"column\": \"Recommended IND\",\n      \"properties\": {\n        \"dtype\": \"number\",\n        \"std\": 0,\n        \"min\": 0,\n        \"max\": 1,\n        \"num_unique_values\": 2,\n        \"samples\": [\n          0,\n          1\n        ],\n        \"semantic_type\": \"\",\n        \"description\": \"\"\n      }\n    },\n    {\n      \"column\": \"Positive Feedback Count\",\n      \"properties\": {\n        \"dtype\": \"number\",\n        \"std\": 5,\n        \"min\": 0,\n        \"max\": 122,\n        \"num_unique_values\": 82,\n        \"samples\": [\n          21,\n          0\n        ],\n        \"semantic_type\": \"\",\n        \"description\": \"\"\n      }\n    },\n    {\n      \"column\": \"Division Name\",\n      \"properties\": {\n        \"dtype\": \"category\",\n        \"num_unique_values\": 3,\n        \"samples\": [\n          \"Initmates\",\n          \"General\"\n        ],\n        \"semantic_type\": \"\",\n        \"description\": \"\"\n      }\n    },\n    {\n      \"column\": \"Department Name\",\n      \"properties\": {\n        \"dtype\": \"category\",\n        \"num_unique_values\": 6,\n        \"samples\": [\n          \"Intimate\",\n          \"Dresses\"\n        ],\n        \"semantic_type\": \"\",\n        \"description\": \"\"\n      }\n    },\n    {\n      \"column\": \"Class Name\",\n      \"properties\": {\n        \"dtype\": \"category\",\n        \"num_unique_values\": 20,\n        \"samples\": [\n          \"Intimates\",\n          \"Layering\"\n        ],\n        \"semantic_type\": \"\",\n        \"description\": \"\"\n      }\n    }\n  ]\n}"
            }
          },
          "metadata": {},
          "execution_count": 4
        }
      ]
    },
    {
      "cell_type": "code",
      "source": [
        "df.info()\n"
      ],
      "metadata": {
        "colab": {
          "base_uri": "https://localhost:8080/"
        },
        "id": "17jWBKferf29",
        "outputId": "0459bc7f-ae55-41af-c6d4-d039b8a41eea"
      },
      "execution_count": 5,
      "outputs": [
        {
          "output_type": "stream",
          "name": "stdout",
          "text": [
            "<class 'pandas.core.frame.DataFrame'>\n",
            "RangeIndex: 23486 entries, 0 to 23485\n",
            "Data columns (total 11 columns):\n",
            " #   Column                   Non-Null Count  Dtype \n",
            "---  ------                   --------------  ----- \n",
            " 0   Unnamed: 0               23486 non-null  int64 \n",
            " 1   Clothing ID              23486 non-null  int64 \n",
            " 2   Age                      23486 non-null  int64 \n",
            " 3   Title                    19676 non-null  object\n",
            " 4   Review Text              22641 non-null  object\n",
            " 5   Rating                   23486 non-null  int64 \n",
            " 6   Recommended IND          23486 non-null  int64 \n",
            " 7   Positive Feedback Count  23486 non-null  int64 \n",
            " 8   Division Name            23472 non-null  object\n",
            " 9   Department Name          23472 non-null  object\n",
            " 10  Class Name               23472 non-null  object\n",
            "dtypes: int64(6), object(5)\n",
            "memory usage: 2.0+ MB\n"
          ]
        }
      ]
    },
    {
      "cell_type": "code",
      "source": [
        "df.isna().sum()\n"
      ],
      "metadata": {
        "colab": {
          "base_uri": "https://localhost:8080/",
          "height": 429
        },
        "id": "5Td5IReOrjrH",
        "outputId": "f472fb69-9c4f-41c1-bde9-5e763c56137b"
      },
      "execution_count": 6,
      "outputs": [
        {
          "output_type": "execute_result",
          "data": {
            "text/plain": [
              "Unnamed: 0                    0\n",
              "Clothing ID                   0\n",
              "Age                           0\n",
              "Title                      3810\n",
              "Review Text                 845\n",
              "Rating                        0\n",
              "Recommended IND               0\n",
              "Positive Feedback Count       0\n",
              "Division Name                14\n",
              "Department Name              14\n",
              "Class Name                   14\n",
              "dtype: int64"
            ],
            "text/html": [
              "<div>\n",
              "<style scoped>\n",
              "    .dataframe tbody tr th:only-of-type {\n",
              "        vertical-align: middle;\n",
              "    }\n",
              "\n",
              "    .dataframe tbody tr th {\n",
              "        vertical-align: top;\n",
              "    }\n",
              "\n",
              "    .dataframe thead th {\n",
              "        text-align: right;\n",
              "    }\n",
              "</style>\n",
              "<table border=\"1\" class=\"dataframe\">\n",
              "  <thead>\n",
              "    <tr style=\"text-align: right;\">\n",
              "      <th></th>\n",
              "      <th>0</th>\n",
              "    </tr>\n",
              "  </thead>\n",
              "  <tbody>\n",
              "    <tr>\n",
              "      <th>Unnamed: 0</th>\n",
              "      <td>0</td>\n",
              "    </tr>\n",
              "    <tr>\n",
              "      <th>Clothing ID</th>\n",
              "      <td>0</td>\n",
              "    </tr>\n",
              "    <tr>\n",
              "      <th>Age</th>\n",
              "      <td>0</td>\n",
              "    </tr>\n",
              "    <tr>\n",
              "      <th>Title</th>\n",
              "      <td>3810</td>\n",
              "    </tr>\n",
              "    <tr>\n",
              "      <th>Review Text</th>\n",
              "      <td>845</td>\n",
              "    </tr>\n",
              "    <tr>\n",
              "      <th>Rating</th>\n",
              "      <td>0</td>\n",
              "    </tr>\n",
              "    <tr>\n",
              "      <th>Recommended IND</th>\n",
              "      <td>0</td>\n",
              "    </tr>\n",
              "    <tr>\n",
              "      <th>Positive Feedback Count</th>\n",
              "      <td>0</td>\n",
              "    </tr>\n",
              "    <tr>\n",
              "      <th>Division Name</th>\n",
              "      <td>14</td>\n",
              "    </tr>\n",
              "    <tr>\n",
              "      <th>Department Name</th>\n",
              "      <td>14</td>\n",
              "    </tr>\n",
              "    <tr>\n",
              "      <th>Class Name</th>\n",
              "      <td>14</td>\n",
              "    </tr>\n",
              "  </tbody>\n",
              "</table>\n",
              "</div><br><label><b>dtype:</b> int64</label>"
            ]
          },
          "metadata": {},
          "execution_count": 6
        }
      ]
    },
    {
      "cell_type": "code",
      "source": [
        "df.duplicated().sum()\n"
      ],
      "metadata": {
        "colab": {
          "base_uri": "https://localhost:8080/"
        },
        "id": "szi0C-3Lrl0X",
        "outputId": "5e753f85-6d50-4f84-d894-c5334a07f654"
      },
      "execution_count": 7,
      "outputs": [
        {
          "output_type": "execute_result",
          "data": {
            "text/plain": [
              "np.int64(0)"
            ]
          },
          "metadata": {},
          "execution_count": 7
        }
      ]
    },
    {
      "cell_type": "code",
      "source": [
        "print(df.columns)\n"
      ],
      "metadata": {
        "colab": {
          "base_uri": "https://localhost:8080/"
        },
        "id": "Dw-5vohsr6ZL",
        "outputId": "b1ceb1be-63a7-45d5-da54-0ef178f04e4d"
      },
      "execution_count": 8,
      "outputs": [
        {
          "output_type": "stream",
          "name": "stdout",
          "text": [
            "Index(['Unnamed: 0', 'Clothing ID', 'Age', 'Title', 'Review Text', 'Rating',\n",
            "       'Recommended IND', 'Positive Feedback Count', 'Division Name',\n",
            "       'Department Name', 'Class Name'],\n",
            "      dtype='object')\n"
          ]
        }
      ]
    },
    {
      "cell_type": "code",
      "source": [
        "df.dropna(inplace=True)\n"
      ],
      "metadata": {
        "id": "hEOmUY-jr9ma"
      },
      "execution_count": 9,
      "outputs": []
    },
    {
      "cell_type": "code",
      "source": [
        "plt.figure(figsize=(10, 10))\n",
        "sns.boxplot(data=df, color='green')\n",
        "plt.show()\n"
      ],
      "metadata": {
        "colab": {
          "base_uri": "https://localhost:8080/",
          "height": 613
        },
        "id": "THdX6SWqsAvi",
        "outputId": "2b7e3691-787a-454a-8870-5f66fa408f20"
      },
      "execution_count": 11,
      "outputs": [
        {
          "output_type": "display_data",
          "data": {
            "text/plain": [
              "<Figure size 1000x1000 with 1 Axes>"
            ],
            "image/png": "[encoded data removed]"
          },
          "metadata": {}
        }
      ]
    },
    {
      "cell_type": "markdown",
      "source": [
        "# Pre-Processing Data"
      ],
      "metadata": {
        "id": "UQdhOIiMsTH1"
      }
    },
    {
      "cell_type": "code",
      "source": [
        "df = df[['Review Text', 'Rating']].copy()\n",
        "df.dropna(inplace=True)\n",
        "\n",
        "def get_sentiment(rating):\n",
        "    if rating >= 4:\n",
        "        return 1\n",
        "    elif rating <= 2:\n",
        "        return 0\n",
        "    else:\n",
        "        return None\n",
        "\n",
        "df.loc[:, 'Label'] = df['Rating'].apply(get_sentiment)\n",
        "df.dropna(inplace=True)\n",
        "df.loc[:, 'Label'] = df['Label'].astype(int)\n"
      ],
      "metadata": {
        "id": "PLuMOE3ysRMT"
      },
      "execution_count": 13,
      "outputs": []
    },
    {
      "cell_type": "code",
      "source": [
        "def clean_text(text):\n",
        "    text = str(text).lower()\n",
        "    text = re.sub(r\"[^a-zA-Z\\s]\", \"\", text)\n",
        "    return text\n",
        "\n",
        "df['Review Text'] = df['Review Text'].apply(clean_text)\n",
        "df = df[df['Review Text'].str.strip() != '']\n"
      ],
      "metadata": {
        "id": "qAnJDI9TsYx0"
      },
      "execution_count": 14,
      "outputs": []
    },
    {
      "cell_type": "code",
      "source": [
        "X = df['Review Text'].values\n",
        "y = df['Label'].values\n",
        "X_train, X_test, y_train, y_test = train_test_split(X, y, test_size=0.2, random_state=42)\n",
        ""
      ],
      "metadata": {
        "id": "o5tH8plAsp_F"
      },
      "execution_count": 15,
      "outputs": []
    },
    {
      "cell_type": "code",
      "source": [
        "tokenizer = Tokenizer(num_words=40000)\n",
        "tokenizer.fit_on_texts(X_train)\n",
        "\n",
        "X_train_seq = tokenizer.texts_to_sequences(X_train)\n",
        "X_test_seq = tokenizer.texts_to_sequences(X_test)\n",
        "\n",
        "max_len = 100\n",
        "X_train_pad = pad_sequences(X_train_seq, maxlen=max_len)\n",
        "X_test_pad = pad_sequences(X_test_seq, maxlen=max_len)\n",
        "vocab_size = len(tokenizer.word_index) + 1\n"
      ],
      "metadata": {
        "id": "TxfZfcHLstVT"
      },
      "execution_count": 16,
      "outputs": []
    },
    {
      "cell_type": "code",
      "source": [
        "class_weights = class_weight.compute_class_weight(class_weight='balanced',\n",
        "                                                  classes=np.unique(y_train),\n",
        "                                                  y=y_train)\n",
        "class_weights = dict(enumerate(class_weights))\n"
      ],
      "metadata": {
        "id": "IeHCwMe-syTJ"
      },
      "execution_count": 17,
      "outputs": []
    },
    {
      "cell_type": "markdown",
      "source": [
        "# RNN Model"
      ],
      "metadata": {
        "id": "gSYYYwG5s1co"
      }
    },
    {
      "cell_type": "markdown",
      "source": [
        "![image.png](data:image/png;base64,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)"
      ],
      "metadata": {
        "id": "ljyBRY1qs2i-"
      }
    },
    {
      "cell_type": "code",
      "source": [
        "# Definisikan model dalam bentuk fungsi yang menerima hyperparameters\n",
        "def build_model(hp):\n",
        "    model = Sequential()\n",
        "    model.add(Embedding(input_dim=vocab_size, output_dim=128, input_length=max_len))\n",
        "\n",
        "    # Tuning unit RNN pertama\n",
        "    model.add(SimpleRNN(units=hp.Int('units_1', min_value=32, max_value=128, step=32), return_sequences=True))\n",
        "    model.add(Dropout(rate=hp.Float('dropout_1', min_value=0.2, max_value=0.6, step=0.2)))\n",
        "\n",
        "    # Tuning unit RNN kedua\n",
        "    model.add(SimpleRNN(units=hp.Int('units_2', min_value=32, max_value=128, step=32), return_sequences=True))\n",
        "    model.add(Dropout(rate=hp.Float('dropout_2', min_value=0.2, max_value=0.6, step=0.2)))\n",
        "\n",
        "    # Tuning unit RNN ketiga\n",
        "    model.add(SimpleRNN(units=hp.Int('units_3', min_value=32, max_value=128, step=32)))\n",
        "    model.add(Dropout(rate=hp.Float('dropout_3', min_value=0.2, max_value=0.6, step=0.2)))\n",
        "\n",
        "    # Output layer\n",
        "    model.add(Dense(1, activation='sigmoid'))\n",
        "\n",
        "    # Compile model dengan learning rate yang dapat dituning\n",
        "    model.compile(loss='binary_crossentropy',\n",
        "                  optimizer=tf.keras.optimizers.Adam(learning_rate=hp.Float('learning_rate', min_value=1e-5, max_value=1e-2, sampling='log')),\n",
        "                  metrics=['accuracy',\n",
        "                           tf.keras.metrics.Precision(),\n",
        "                           tf.keras.metrics.Recall(),\n",
        "                           tf.keras.metrics.AUC(name='auc')])\n",
        "\n",
        "    return model\n",
        ""
      ],
      "metadata": {
        "id": "l6GGunGws7VP"
      },
      "execution_count": 18,
      "outputs": []
    },
    {
      "cell_type": "markdown",
      "source": [
        "# Hyperparameter Tuning"
      ],
      "metadata": {
        "id": "E1x_jUzmtBAB"
      }
    },
    {
      "cell_type": "code",
      "source": [
        "# Inisialisasi Keras Tuner dengan RandomSearch\n",
        "tuner = kt.RandomSearch(\n",
        "    build_model,\n",
        "    objective='val_loss',\n",
        "    max_trials=5,  # Hanya 5 iterasi\n",
        "    executions_per_trial=1,  # Hanya satu percobaan untuk setiap kombinasi hyperparameter\n",
        "    directory='kt_dir',\n",
        "    project_name='review_sentiment_tuning',\n",
        "    overwrite=True\n",
        ")\n",
        "\n",
        "# Melakukan pencarian hyperparameter\n",
        "tuner.search(X_train_pad, y_train, epochs=5, batch_size=32, validation_data=(X_test_pad, y_test), class_weight=class_weights)\n",
        "\n",
        "# Ambil model terbaik dan simpannya\n",
        "best_model = tuner.get_best_models(num_models=1)[0]\n",
        "best_model.save('best_model.h5')\n",
        "\n",
        "# Tampilkan hasil pencarian hyperparameter terbaik\n",
        "best_hyperparameters = tuner.get_best_hyperparameters(num_trials=1)[0]\n",
        "print(\"Best hyperparameters:\", best_hyperparameters.values)\n"
      ],
      "metadata": {
        "colab": {
          "base_uri": "https://localhost:8080/"
        },
        "id": "UBRZzPZktGvA",
        "outputId": "53f91d1c-0a4e-499a-e256-91ca55b965de"
      },
      "execution_count": 19,
      "outputs": [
        {
          "output_type": "stream",
          "name": "stdout",
          "text": [
            "Trial 5 Complete [00h 06m 57s]\n",
            "val_loss: 0.4478735029697418\n",
            "\n",
            "Best val_loss So Far: 0.28166523575782776\n",
            "Total elapsed time: 00h 31m 32s\n"
          ]
        },
        {
          "output_type": "stream",
          "name": "stderr",
          "text": [
            "/usr/local/lib/python3.11/dist-packages/keras/src/saving/saving_lib.py:757: UserWarning: Skipping variable loading for optimizer 'adam', because it has 2 variables whereas the saved optimizer has 26 variables. \n",
            "  saveable.load_own_variables(weights_store.get(inner_path))\n",
            "WARNING:absl:You are saving your model as an HDF5 file via `model.save()` or `keras.saving.save_model(model)`. This file format is considered legacy. We recommend using instead the native Keras format, e.g. `model.save('my_model.keras')` or `keras.saving.save_model(model, 'my_model.keras')`. \n"
          ]
        },
        {
          "output_type": "stream",
          "name": "stdout",
          "text": [
            "Best hyperparameters: {'units_1': 32, 'dropout_1': 0.2, 'units_2': 32, 'dropout_2': 0.2, 'units_3': 96, 'dropout_3': 0.4, 'learning_rate': 9.184533134030702e-05}\n"
          ]
        }
      ]
    },
    {
      "cell_type": "markdown",
      "source": [
        "# Latih Model"
      ],
      "metadata": {
        "id": "A64ZFdMr0dPN"
      }
    },
    {
      "cell_type": "code",
      "source": [
        "# Muat model terbaik yang sudah disimpan\n",
        "best_model = tf.keras.models.load_model('best_model.h5')\n",
        "\n",
        "# Kompilasi ulang model setelah dimuat\n",
        "best_model.compile(\n",
        "    loss='binary_crossentropy',\n",
        "    optimizer=tf.keras.optimizers.Adam(learning_rate=best_hyperparameters['learning_rate']),\n",
        "    metrics=['accuracy', tf.keras.metrics.Precision(), tf.keras.metrics.Recall(), tf.keras.metrics.AUC(name='auc')]\n",
        ")\n",
        "\n",
        "# Melakukan final training (fine-tuning) pada model terbaik\n",
        "history = best_model.fit(\n",
        "    X_train_pad, y_train,\n",
        "    epochs=5,\n",
        "    batch_size=32,\n",
        "    validation_data=(X_test_pad, y_test),\n",
        "    class_weight=class_weights,\n",
        "    verbose=1\n",
        ")\n"
      ],
      "metadata": {
        "colab": {
          "base_uri": "https://localhost:8080/"
        },
        "id": "QpT62AZm0ck2",
        "outputId": "89d45a2d-2692-426b-bf11-3221cb84a909"
      },
      "execution_count": 20,
      "outputs": [
        {
          "output_type": "stream",
          "name": "stderr",
          "text": [
            "WARNING:absl:Compiled the loaded model, but the compiled metrics have yet to be built. `model.compile_metrics` will be empty until you train or evaluate the model.\n"
          ]
        },
        {
          "output_type": "stream",
          "name": "stdout",
          "text": [
            "Epoch 1/5\n",
            "\u001b[1m430/430\u001b[0m \u001b[32m━━━━━━━━━━━━━━━━━━━━\u001b[0m\u001b[37m\u001b[0m \u001b[1m48s\u001b[0m 100ms/step - accuracy: 0.9333 - auc: 0.9782 - loss: 0.1899 - precision_1: 0.9893 - recall_1: 0.9344 - val_accuracy: 0.9020 - val_auc: 0.9065 - val_loss: 0.2694 - val_precision_1: 0.9494 - val_recall_1: 0.9384\n",
            "Epoch 2/5\n",
            "\u001b[1m430/430\u001b[0m \u001b[32m━━━━━━━━━━━━━━━━━━━━\u001b[0m\u001b[37m\u001b[0m \u001b[1m43s\u001b[0m 99ms/step - accuracy: 0.9593 - auc: 0.9906 - loss: 0.1153 - precision_1: 0.9957 - recall_1: 0.9581 - val_accuracy: 0.9006 - val_auc: 0.8913 - val_loss: 0.2936 - val_precision_1: 0.9443 - val_recall_1: 0.9424\n",
            "Epoch 3/5\n",
            "\u001b[1m430/430\u001b[0m \u001b[32m━━━━━━━━━━━━━━━━━━━━\u001b[0m\u001b[37m\u001b[0m \u001b[1m81s\u001b[0m 97ms/step - accuracy: 0.9757 - auc: 0.9960 - loss: 0.0732 - precision_1: 0.9973 - recall_1: 0.9749 - val_accuracy: 0.9087 - val_auc: 0.8892 - val_loss: 0.3216 - val_precision_1: 0.9451 - val_recall_1: 0.9513\n",
            "Epoch 4/5\n",
            "\u001b[1m430/430\u001b[0m \u001b[32m━━━━━━━━━━━━━━━━━━━━\u001b[0m\u001b[37m\u001b[0m \u001b[1m82s\u001b[0m 96ms/step - accuracy: 0.9828 - auc: 0.9975 - loss: 0.0490 - precision_1: 0.9985 - recall_1: 0.9821 - val_accuracy: 0.8951 - val_auc: 0.8605 - val_loss: 0.3395 - val_precision_1: 0.9349 - val_recall_1: 0.9464\n",
            "Epoch 5/5\n",
            "\u001b[1m430/430\u001b[0m \u001b[32m━━━━━━━━━━━━━━━━━━━━\u001b[0m\u001b[37m\u001b[0m \u001b[1m42s\u001b[0m 97ms/step - accuracy: 0.9894 - auc: 0.9986 - loss: 0.0369 - precision_1: 0.9990 - recall_1: 0.9889 - val_accuracy: 0.8919 - val_auc: 0.8763 - val_loss: 0.3754 - val_precision_1: 0.9416 - val_recall_1: 0.9348\n"
          ]
        }
      ]
    },
    {
      "cell_type": "markdown",
      "source": [
        "# Evaluasi dan Akurasi"
      ],
      "metadata": {
        "id": "mMbWvSKo6NMG"
      }
    },
    {
      "cell_type": "code",
      "source": [
        "# Plot training & validation accuracy dan loss\n",
        "plt.figure(figsize=(12, 6))\n",
        "\n",
        "# Plot Accuracy\n",
        "plt.subplot(1, 2, 1)\n",
        "plt.plot(history.history['accuracy'], label='Training Accuracy')\n",
        "plt.plot(history.history['val_accuracy'], label='Validation Accuracy')\n",
        "plt.title('Accuracy')\n",
        "plt.xlabel('Epochs')\n",
        "plt.ylabel('Accuracy')\n",
        "plt.legend()\n",
        "\n",
        "# Plot Loss\n",
        "plt.subplot(1, 2, 2)\n",
        "plt.plot(history.history['loss'], label='Training Loss')\n",
        "plt.plot(history.history['val_loss'], label='Validation Loss')\n",
        "plt.title('Loss')\n",
        "plt.xlabel('Epochs')\n",
        "plt.ylabel('Loss')\n",
        "plt.legend()\n",
        "\n",
        "plt.show()\n"
      ],
      "metadata": {
        "colab": {
          "base_uri": "https://localhost:8080/",
          "height": 362
        },
        "id": "w_4vMIFr6ERF",
        "outputId": "3f7b4ef2-6deb-4949-8323-0e65dd18c751"
      },
      "execution_count": 21,
      "outputs": [
        {
          "output_type": "display_data",
          "data": {
            "text/plain": [
              "<Figure size 1200x600 with 2 Axes>"
            ],
            "image/png": "[encoded data removed]"
          },
          "metadata": {}
        }
      ]
    },
    {
      "cell_type": "code",
      "source": [
        "# Menggunakan model terbaik untuk melakukan prediksi\n",
        "y_pred_prob = best_model.predict(X_test_pad).flatten()  # Gunakan best_model yang sudah dilatih\n",
        "y_pred = (y_pred_prob > 0.5).astype(int)  # Prediksi label (0 atau 1) berdasarkan threshold 0.5\n",
        "\n",
        "# Menghitung metrik evaluasi\n",
        "acc = accuracy_score(y_test, y_pred)\n",
        "prec = precision_score(y_test, y_pred)\n",
        "rec = recall_score(y_test, y_pred)\n",
        "f1 = f1_score(y_test, y_pred)\n",
        "auc = roc_auc_score(y_test, y_pred_prob)\n",
        "\n",
        "# Menampilkan hasil metrik\n",
        "print(\"=====Hasil Model=====\")\n",
        "print(f\"Akurasi: {acc:.4f}\")\n",
        "print(f\"Presisi: {prec:.4f}\")\n",
        "print(f\"Recall: {rec:.4f}\")\n",
        "print(f\"F1-Score: {f1:.4f}\")\n",
        "print(f\"AUC: {auc:.4f}\")\n",
        ""
      ],
      "metadata": {
        "colab": {
          "base_uri": "https://localhost:8080/"
        },
        "id": "fgPYBIAG6RSx",
        "outputId": "a058c09d-4311-4f74-a682-293be36c4cde"
      },
      "execution_count": 22,
      "outputs": [
        {
          "output_type": "stream",
          "name": "stdout",
          "text": [
            "\u001b[1m108/108\u001b[0m \u001b[32m━━━━━━━━━━━━━━━━━━━━\u001b[0m\u001b[37m\u001b[0m \u001b[1m3s\u001b[0m 22ms/step\n",
            "=====Hasil Model=====\n",
            "Akurasi: 0.8919\n",
            "Presisi: 0.9416\n",
            "Recall: 0.9348\n",
            "F1-Score: 0.9382\n",
            "AUC: 0.8853\n"
          ]
        }
      ]
    },
    {
      "cell_type": "code",
      "source": [
        "# Import library yang diperlukan\n",
        "from sklearn.metrics import roc_curve, auc\n",
        "\n",
        "# Hitung False Positive Rate (FPR), True Positive Rate (TPR), dan Thresholds\n",
        "fpr, tpr, thresholds = roc_curve(y_test, y_pred_prob)\n",
        "\n",
        "# Hitung AUC (Area Under the Curve)\n",
        "roc_auc = auc(fpr, tpr)\n",
        "\n",
        "# Plot ROC Curve\n",
        "plt.figure(figsize=(8, 6))\n",
        "plt.plot(fpr, tpr, color='darkorange', lw=2, label=f'ROC curve (AUC = {roc_auc:.4f})')\n",
        "plt.plot([0, 1], [0, 1], color='navy', lw=2, linestyle='--')  # Diagonal line (random classifier)\n",
        "plt.xlim([0.0, 1.0])\n",
        "plt.ylim([0.0, 1.05])\n",
        "plt.xlabel('False Positive Rate')\n",
        "plt.ylabel('True Positive Rate')\n",
        "plt.title('Receiver Operating Characteristic (ROC) Curve')\n",
        "plt.legend(loc='lower right')\n",
        "plt.show()\n"
      ],
      "metadata": {
        "colab": {
          "base_uri": "https://localhost:8080/",
          "height": 513
        },
        "id": "tvlk_S5q6amJ",
        "outputId": "94319d01-ad09-41fa-a807-9f295c7d84df"
      },
      "execution_count": 23,
      "outputs": [
        {
          "output_type": "display_data",
          "data": {
            "text/plain": [
              "<Figure size 800x600 with 1 Axes>"
            ],
            "image/png": "[encoded data removed]"
          },
          "metadata": {}
        }
      ]
    }
  ]
}